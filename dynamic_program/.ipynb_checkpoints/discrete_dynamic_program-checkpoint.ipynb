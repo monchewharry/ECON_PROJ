{
 "cells": [
  {
   "cell_type": "markdown",
   "metadata": {},
   "source": [
    "### Krueger - MacroTheory(chapter3 p.41)  \n",
    "\n",
    "by CAOCAOCAO"
   ]
  },
  {
   "cell_type": "code",
   "execution_count": 1,
   "metadata": {},
   "outputs": [],
   "source": [
    "import numpy as np\n",
    "import scipy.sparse as sparse\n",
    "import matplotlib.pyplot as plt"
   ]
  },
  {
   "cell_type": "markdown",
   "metadata": {},
   "source": [
    "### Sequential problem(social planner):\n",
    "\n",
    "$w(k_0)=max \\Sigma_{t=0}^{\\infty} \\beta^t U(f(k_t)-k_{t+1})$  \n",
    "s.t. 0≤$k_{t+1}$≤$f({k_t});$  \n",
    "   $k_{t+1} \\in K$;  \n",
    "   $k_0~~given$;  \n",
    "   $f(k_t)= F(k_t,1) + (1- \\delta)k_t=k_{t+1}+c_t$ \n",
    "\n",
    "\n",
    "### Bellmen equation version:  \n",
    "\n",
    "$v(k) = max \\{U(f(k)-k^{'})+\\beta v(k^{'})\\}$  \n",
    "st 0≤$k^{'}$≤$f(k);$  \n",
    "   $k^{'}\\in K$;  \n",
    "   \n",
    "Assumptions:  \n",
    "\n",
    "- $\\beta=0.6$;\n",
    "- $U()=ln()$;\n",
    "- $f()=()^{0.3}$ \n",
    "- K=[0.04~0.2] state space\n",
    "- $k'=g(k)$"
   ]
  },
  {
   "cell_type": "code",
   "execution_count": 2,
   "metadata": {},
   "outputs": [],
   "source": [
    "class discreteDP:\n",
    "    '''\n",
    "    zhuangbi \n",
    "    '''\n",
    "    def __init__(self, S, alpha=0.3, beta=0.6):  \n",
    "        self.S=S\n",
    "        self.alpha=alpha\n",
    "        self.beta=beta\n",
    "        self.initialv=0*np.log(S)\n",
    "        \n",
    "    def u(self, c):\n",
    "        return np.log(c)\n",
    "    \n",
    "    def f(self,k):\n",
    "        return k**self.alpha"
   ]
  },
  {
   "cell_type": "code",
   "execution_count": 3,
   "metadata": {},
   "outputs": [],
   "source": [
    "grid_min=0.04\n",
    "grid_max = 0.2\n",
    "grid_size = 5\n",
    "grid = np.linspace(grid_min, grid_max, grid_size)#K: state variable space\n",
    "\n",
    "d=discreteDP(S=grid)"
   ]
  },
  {
   "cell_type": "code",
   "execution_count": 5,
   "metadata": {},
   "outputs": [
    {
     "data": {
      "text/plain": [
       "{0.040000000000000001: [0.040000000000000001,\n",
       "  0.080000000000000002,\n",
       "  0.12,\n",
       "  0.16,\n",
       "  0.20000000000000001],\n",
       " 0.080000000000000002: [0.040000000000000001,\n",
       "  0.080000000000000002,\n",
       "  0.12,\n",
       "  0.16,\n",
       "  0.20000000000000001],\n",
       " 0.12: [0.040000000000000001,\n",
       "  0.080000000000000002,\n",
       "  0.12,\n",
       "  0.16,\n",
       "  0.20000000000000001],\n",
       " 0.16: [0.040000000000000001,\n",
       "  0.080000000000000002,\n",
       "  0.12,\n",
       "  0.16,\n",
       "  0.20000000000000001],\n",
       " 0.20000000000000001: [0.040000000000000001,\n",
       "  0.080000000000000002,\n",
       "  0.12,\n",
       "  0.16,\n",
       "  0.20000000000000001]}"
      ]
     },
     "execution_count": 5,
     "metadata": {},
     "output_type": "execute_result"
    }
   ],
   "source": [
    "#1 find k' feasible set: A(k)\n",
    "Ak=d.f(d.S).reshape(grid_size, 1) - d.S.reshape(1, grid_size)\n",
    "s_indices, a_indices = np.where(Ak > 0)\n",
    "\n",
    "ak_dict=dict()\n",
    "for i,j in zip(s_indices,a_indices):\n",
    "    if d.S[i] not in ak_dict:\n",
    "        ak_dict[d.S[i]] = [d.S[j]]\n",
    "    else:\n",
    "        ak_dict[d.S[i]] += [d.S[j]]\n",
    "\n",
    "ak_dict"
   ]
  },
  {
   "cell_type": "markdown",
   "metadata": {},
   "source": [
    ">>发现5个可选值都是feasible action-state pair. 所以下面就没有考虑0≤$k^{'}$≤$f(k);$ 欲扩展到一般情况，需要利用ak_dict修改下面代码。"
   ]
  },
  {
   "cell_type": "code",
   "execution_count": 6,
   "metadata": {},
   "outputs": [
    {
     "name": "stdout",
     "output_type": "stream",
     "text": [
      "-1.07666259226 0.04\n",
      "-0.846917240756 0.04\n",
      "-0.714648763533 0.04\n",
      "-0.621608289855 0.04\n",
      "-0.54985432664 0.04\n"
     ]
    }
   ],
   "source": [
    "#iteration1\n",
    "v0=d.initialv\n",
    "v1=np.arange(len(d.S),dtype=np.float64)\n",
    "g1=np.arange(len(d.S),dtype=np.float64)\n",
    "\n",
    "for i in np.arange(len(d.S)):\n",
    "    v=d.u(d.f(d.S[i])-d.S)+d.beta*v0\n",
    "    v1[i],g1[i] =np.max(v),d.S[np.argmax(v)]\n",
    "    print(v1[i],g1[i])"
   ]
  },
  {
   "cell_type": "code",
   "execution_count": 7,
   "metadata": {},
   "outputs": [
    {
     "name": "stdout",
     "output_type": "stream",
     "text": [
      "-1.70969015177 0.08\n",
      "-1.45300882036 0.08\n",
      "-1.30807245363 0.08\n",
      "-1.20715472021 0.08\n",
      "-1.12788637908 0.12\n"
     ]
    }
   ],
   "source": [
    "#iteration2\n",
    "v0=v1\n",
    "v1=np.arange(len(d.S),dtype=np.float64)\n",
    "g1=np.arange(len(d.S),dtype=np.float64)\n",
    "\n",
    "for i in np.arange(len(d.S)):\n",
    "    v=d.u(d.f(d.S[i])-d.S)+d.beta*v0\n",
    "    v1[i],g1[i] =np.max(v),d.S[np.argmax(v)]  \n",
    "    print(v1[i],g1[i])"
   ]
  },
  {
   "cell_type": "markdown",
   "metadata": {},
   "source": [
    "## Iteration coding  \n",
    "\n",
    "现修改IF ELSE 语句，用generator迭代计算 v 和 g 。"
   ]
  },
  {
   "cell_type": "code",
   "execution_count": 25,
   "metadata": {},
   "outputs": [],
   "source": [
    "def dp(run):\n",
    "    v0=d.initialv\n",
    "    n=0\n",
    "    while n<run:\n",
    "        n+=1\n",
    "        v1=np.arange(len(d.S),dtype=np.float64)\n",
    "        g1=np.arange(len(d.S),dtype=np.float64)\n",
    "        for i in np.arange(len(d.S)):\n",
    "            v=d.u(d.f(d.S[i])-d.S)+d.beta*v0\n",
    "      \n",
    "            v1[i],g1[i] =np.max(v),d.S[np.argmax(v)]\n",
    "        yield v1,g1\n",
    "        v0=v1      \n",
    "        "
   ]
  },
  {
   "cell_type": "code",
   "execution_count": 26,
   "metadata": {},
   "outputs": [
    {
     "data": {
      "text/plain": [
       "(array([-1.07666259, -0.84691724, -0.71464876, -0.62160829, -0.54985433]),\n",
       " array([ 0.04,  0.04,  0.04,  0.04,  0.04]))"
      ]
     },
     "execution_count": 26,
     "metadata": {},
     "output_type": "execute_result"
    }
   ],
   "source": [
    "dd=dp(10)\n",
    "next(dd)"
   ]
  },
  {
   "cell_type": "code",
   "execution_count": 27,
   "metadata": {},
   "outputs": [
    {
     "data": {
      "text/plain": [
       "(array([-1.70969015, -1.45300882, -1.30807245, -1.20715472, -1.12788638]),\n",
       " array([ 0.08,  0.08,  0.08,  0.08,  0.12]))"
      ]
     },
     "execution_count": 27,
     "metadata": {},
     "output_type": "execute_result"
    }
   ],
   "source": [
    "next(dd)"
   ]
  },
  {
   "cell_type": "code",
   "execution_count": 28,
   "metadata": {},
   "outputs": [
    {
     "data": {
      "image/png": "[encoded data removed]",
      "text/plain": [
       "<matplotlib.figure.Figure at 0x10627c160>"
      ]
     },
     "metadata": {},
     "output_type": "display_data"
    }
   ],
   "source": [
    "v = 0* np.log(grid)  # Initial condition\n",
    "n = 10\n",
    "dd=dp(n)\n",
    "\n",
    "fig, ax = plt.subplots(1, 2,figsize=(8,5))\n",
    "ax[0].set_ylim(-3, 0)\n",
    "ax[0].set_xlim(np.min(grid), np.max(grid))\n",
    "\n",
    "ax[1].set_ylim(0, 0.2)\n",
    "ax[1].set_xlim(np.min(grid), np.max(grid))\n",
    "\n",
    "lb0 = 'initial value function'\n",
    "lb1='policy functions'\n",
    "ax[0].plot(grid, v, color=plt.cm.jet(0), lw=2, alpha=0.6, label=lb0)\n",
    "ax[0].plot(grid, v, color=plt.cm.jet(0), lw=2, alpha=0.6, label=lb0)\n",
    "\n",
    "for i in range(n):\n",
    "    v,g=next(dd)\n",
    "    ax[0].plot(grid, v, color=plt.cm.jet(i / n), lw=2, alpha=0.6)\n",
    "    ax[1].plot(grid, g, color=plt.cm.jet(i/n), lw=2, alpha=0.6)\n",
    "    \n",
    "    \n",
    "ax[0].legend(loc='upper left')\n",
    "\n",
    "plt.show()## v(k) and g(k)"
   ]
  },
  {
   "cell_type": "code",
   "execution_count": null,
   "metadata": {},
   "outputs": [],
   "source": []
  }
 ],
 "metadata": {
  "kernelspec": {
   "display_name": "Python 3",
   "language": "python",
   "name": "python3"
  },
  "language_info": {
   "codemirror_mode": {
    "name": "ipython",
    "version": 3
   },
   "file_extension": ".py",
   "mimetype": "text/x-python",
   "name": "python",
   "nbconvert_exporter": "python",
   "pygments_lexer": "ipython3",
   "version": "3.6.2"
  }
 },
 "nbformat": 4,
 "nbformat_minor": 2
}
